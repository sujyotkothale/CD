{
 "cells": [
  {
   "cell_type": "code",
   "execution_count": 5,
   "metadata": {},
   "outputs": [],
   "source": [
    "class Tree:\n",
    "    def __init__(self,n,labels,t,left=None,right=None) -> None:\n",
    "        self.left = left\n",
    "        self.right = right\n",
    "        self.n = n\n",
    "        self.labels = labels\n",
    "        self.t = t\n",
    "\n",
    "class Stack:\n",
    "    def __init__(self) -> None:\n",
    "        self.arr = []\n",
    "    def push(self,n):\n",
    "        self.arr.append(n)\n",
    "    def pop(self):\n",
    "        return self.arr.pop(0)\n",
    "    def peek(self):\n",
    "        return self.arr[0]   \n",
    "    def swap(self):\n",
    "        t = self.arr[0] \n",
    "        self.arr[0] = self.arr[1]\n",
    "        self.arr[1] = t\n",
    "        \n",
    "def getInstruction(sign):\n",
    "    if sign == '-':\n",
    "        return 'SUB'\n",
    "    if sign == '+':\n",
    "        return 'Add' \n",
    "\n",
    "def inorder(root):\n",
    "    if root != None:\n",
    "        inorder(root.left)\n",
    "        print(root.labels)\n",
    "        inorder(root.right)                "
   ]
  },
  {
   "cell_type": "code",
   "execution_count": 6,
   "metadata": {},
   "outputs": [
    {
     "name": "stdout",
     "output_type": "stream",
     "text": [
      "Inorder traversal of the tree :\n",
      "['a']\n",
      "['t1']\n",
      "['b']\n",
      "['t4']\n",
      "['e']\n",
      "['t3']\n",
      "['c']\n",
      "['t2']\n",
      "['d']\n"
     ]
    }
   ],
   "source": [
    "root = Tree('-',['t4'],2)\n",
    "t1 = Tree('+',['t1'],1,Tree('a',['a'],1),Tree('b',['b'],0))\n",
    "t2 = Tree('+',['t2'],1,Tree('c',['c'],1),Tree('d',['d'],0))\n",
    "t3 = Tree('-',['t3'],2,Tree('e',['e'],1),t2)\n",
    "root.left = t1\n",
    "root.right = t3\n",
    "print(\"Inorder traversal of the tree :\")\n",
    "inorder(root) "
   ]
  },
  {
   "cell_type": "code",
   "execution_count": 7,
   "metadata": {},
   "outputs": [],
   "source": [
    "r = 2\n",
    "code = []\n",
    "rstack = Stack()\n",
    "rstack.push('R0')\n",
    "rstack.push('R1')\n",
    "def Codegen(root):\n",
    "    if root.left == None and root.right == None and root.t == 1:\n",
    "        code.append([\"{} {},{}\".format(\"MOV\",root.n,rstack.peek())])\n",
    "        return\n",
    "    if root.right.t == 0:\n",
    "        Codegen(root.left)\n",
    "        code.append([\"{} {},{}\".format(getInstruction(root.n),root.right.n,rstack.peek())])\n",
    "        return\n",
    "    if root.right.t > root.left.t and root.left.t < r:\n",
    "        rstack.swap()\n",
    "        Codegen(root.right)\n",
    "        top = rstack.pop()\n",
    "        Codegen(root.left)\n",
    "        code.append([\"{} {},{}\".format(getInstruction(root.n),top,rstack.peek())])\n",
    "        rstack.push(top)\n",
    "        rstack.swap()\n",
    "        return\n",
    "    if root.right.t <= root.left.t and root.left.t < r: \n",
    "        Codegen(root.left)\n",
    "        top = rstack.pop()  \n",
    "        Codegen(root.right)\n",
    "        code.append([\"{} {},{}\".format(getInstruction(root.n),rstack.peek(),top)])\n",
    "        rstack.push(top)\n",
    "        return"
   ]
  },
  {
   "cell_type": "code",
   "execution_count": 8,
   "metadata": {},
   "outputs": [
    {
     "name": "stdout",
     "output_type": "stream",
     "text": [
      "['MOV e,R1']\n",
      "['MOV c,R0']\n",
      "['Add d,R0']\n",
      "['SUB R0,R1']\n",
      "['MOV a,R1']\n",
      "['Add b,R1']\n",
      "['SUB R0,R1']\n"
     ]
    }
   ],
   "source": [
    "Codegen(root)\n",
    "for x in code:\n",
    "    print(x)"
   ]
  }
 ],
 "metadata": {
  "kernelspec": {
   "display_name": "Python 3",
   "language": "python",
   "name": "python3"
  },
  "language_info": {
   "codemirror_mode": {
    "name": "ipython",
    "version": 3
   },
   "file_extension": ".py",
   "mimetype": "text/x-python",
   "name": "python",
   "nbconvert_exporter": "python",
   "pygments_lexer": "ipython3",
   "version": "3.12.0"
  }
 },
 "nbformat": 4,
 "nbformat_minor": 2
}
